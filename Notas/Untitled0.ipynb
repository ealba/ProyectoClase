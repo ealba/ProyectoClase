{
 "metadata": {
  "language": "Julia",
  "name": "",
  "signature": "sha256:05f45911c4ed1acb819943121e6e487488a769b18dbd1335a4621eee8e4b20e2"
 },
 "nbformat": 3,
 "nbformat_minor": 0,
 "worksheets": [
  {
   "cells": [
    {
     "cell_type": "code",
     "collapsed": false,
     "input": [
      "using TaylorSeries"
     ],
     "language": "python",
     "metadata": {},
     "outputs": [],
     "prompt_number": 1
    },
    {
     "cell_type": "code",
     "collapsed": false,
     "input": [
      "methods(Taylor1)"
     ],
     "language": "python",
     "metadata": {},
     "outputs": [
      {
       "html": [
        "6 methods for generic function <b>Taylor1</b>:<ul><li> Taylor1<i>{T<:Number}</i>(x::<b>Taylor1{T<:Number}</b>,order::<b>Int64</b>) at <a href=\"file:///home/ernestoalba/ProyectoClase/Notas/utils_Taylor1.jl\" target=\"_blank\">/home/ernestoalba/ProyectoClase/Notas/utils_Taylor1.jl:39</a><li> Taylor1<i>{T<:Number}</i>(x::<b>Taylor1{T<:Number}</b>) at <a href=\"file:///home/ernestoalba/ProyectoClase/Notas/utils_Taylor1.jl\" target=\"_blank\">/home/ernestoalba/ProyectoClase/Notas/utils_Taylor1.jl:40</a><li> Taylor1<i>{T<:Number}</i>(coeffs::<b>Array{T<:Number,1}</b>,order::<b>Int64</b>) at <a href=\"file:///home/ernestoalba/ProyectoClase/Notas/utils_Taylor1.jl\" target=\"_blank\">/home/ernestoalba/ProyectoClase/Notas/utils_Taylor1.jl:41</a><li> Taylor1<i>{T<:Number}</i>(coeffs::<b>Array{T<:Number,1}</b>) at <a href=\"file:///home/ernestoalba/ProyectoClase/Notas/utils_Taylor1.jl\" target=\"_blank\">/home/ernestoalba/ProyectoClase/Notas/utils_Taylor1.jl:42</a><li> Taylor1<i>{T<:Number}</i>(x::<b>T<:Number</b>,order::<b>Int64</b>) at <a href=\"file:///home/ernestoalba/ProyectoClase/Notas/utils_Taylor1.jl\" target=\"_blank\">/home/ernestoalba/ProyectoClase/Notas/utils_Taylor1.jl:43</a><li> Taylor1<i>{T<:Number}</i>(x::<b>T<:Number</b>) at <a href=\"file:///home/ernestoalba/ProyectoClase/Notas/utils_Taylor1.jl\" target=\"_blank\">/home/ernestoalba/ProyectoClase/Notas/utils_Taylor1.jl:44</a></ul>"
       ],
       "metadata": {},
       "output_type": "pyout",
       "prompt_number": 2,
       "text": [
        "# 6 methods for generic function \"Taylor1\":\n",
        "Taylor1{T<:Number}(x::Taylor1{T<:Number},order::Int64) at /home/ernestoalba/ProyectoClase/Notas/utils_Taylor1.jl:39\n",
        "Taylor1{T<:Number}(x::Taylor1{T<:Number}) at /home/ernestoalba/ProyectoClase/Notas/utils_Taylor1.jl:40\n",
        "Taylor1{T<:Number}(coeffs::Array{T<:Number,1},order::Int64) at /home/ernestoalba/ProyectoClase/Notas/utils_Taylor1.jl:41\n",
        "Taylor1{T<:Number}(coeffs::Array{T<:Number,1}) at /home/ernestoalba/ProyectoClase/Notas/utils_Taylor1.jl:42\n",
        "Taylor1{T<:Number}(x::T<:Number,order::Int64) at /home/ernestoalba/ProyectoClase/Notas/utils_Taylor1.jl:43\n",
        "Taylor1{T<:Number}(x::T<:Number) at /home/ernestoalba/ProyectoClase/Notas/utils_Taylor1.jl:44"
       ]
      }
     ],
     "prompt_number": 2
    },
    {
     "cell_type": "code",
     "collapsed": false,
     "input": [],
     "language": "python",
     "metadata": {},
     "outputs": []
    }
   ],
   "metadata": {}
  }
 ]
}