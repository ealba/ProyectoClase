{
 "metadata": {
  "language": "Julia",
  "name": "",
  "signature": "sha256:d611d815e711ab52449b0147f3eaa92f5d480a00ab1944d36500ba7fd8f8bc03"
 },
 "nbformat": 3,
 "nbformat_minor": 0,
 "worksheets": [
  {
   "cells": [
    {
     "cell_type": "heading",
     "level": 1,
     "metadata": {},
     "source": [
      "Lo que est\u00e1 en el m\u00f3dulo RungeKutta:"
     ]
    },
    {
     "cell_type": "markdown",
     "metadata": {},
     "source": [
      "####RungeKutta 2 resuelve, a segundo orden, ecuaciones de la forma dx/dt=f(t,x)\n",
      "\n",
      "####RungeKutta 4 resuelve, a cuarto orden, ecuaciones de la forma dx/dt=f(t,x)\n",
      "\n",
      "####zetacero obtiene un intervalo que contiene a toda la trayectoria hasta un tiempo tf=h*n y pasa por x0. Se obtiene con Runge Kutta a 4\u00b0 orden\n",
      "\n",
      "####BuscarTBuena obtiene un tiempo (relativamente grande, siempre que demos el h de zetacero muy peque\u00f1o) T<tf que hace que la ecuaci\u00f3n 6.9 del Tucker se cumpla para Psi=z0=zetacero \n"
     ]
    },
    {
     "cell_type": "markdown",
     "metadata": {},
     "source": [
      "###En espec\u00edfico. z0 es:\n",
      "\n",
      "$x_{RK}$=[$x[i]$  for i in 1:n+1]\n",
      "\n",
      "Donde $x[i]$ se sac\u00f3 de Runge Kutta\n",
      "\n",
      "$zz$=Intervalo(minimum($x_Rk$),maximum($x_RK$));\n",
      "\n",
      "$z0$=[$\\underline{zz}$-0.1*rad($zz$) , $\\overline{zz}$+0.1*rad($zz$)]"
     ]
    },
    {
     "cell_type": "markdown",
     "metadata": {},
     "source": [
      "module RungeKutta\n",
      "using Intervalos\n",
      "\n",
      "export RungeKutta2, RungeKutta4, zetacero, BuscarTBuena\n",
      "\n",
      "    \n",
      "    #M\u00e9todo gen\u00e9rico de Runge-Kutta 2 para resolver ecuaciones de la forma x'=dx/dt=f(t,x)\n",
      "    function RungeKutta2(t0::Float64,x0::Float64,h::Float64,n::Integer,f::Function)\n",
      "        tf=t0+h*n\n",
      "        t=linspace(t0,tf,n+1)\n",
      "\n",
      "        x=similar(t); \n",
      "        x[1]=x0;\n",
      "\n",
      "        for i in 2:n+1\n",
      "            K1=h*f(t[i-1],x[i-1])   \n",
      "            K2=h*f(t[i],x[i-1]+K1)\n",
      "            x[i]=x[i-1]+0.5*(K1+K2)   #es la expresi\u00f3n general, depende de la funci\u00f3n definida abajo\n",
      "            #println(temp)\n",
      "        end \n",
      "        \n",
      "        \n",
      "        return x\n",
      "    end\n",
      "\n",
      "\n",
      "\n",
      "\n",
      "    #M\u00e9todo gen\u00e9rico de Runge-Kutta 4 para resolver ecuaciones de la forma x'=dx/dt=f(t,x)\n",
      "    function RungeKutta4(t0::Float64,x0::Float64,h::Float64,n::Integer,f::Function)\n",
      "\n",
      "        tf=t0+h*n\n",
      "        t=linspace(t0,tf,n+1)\n",
      "\n",
      "        x=similar(t); \n",
      "        x[1]=x0;\n",
      "\n",
      "\n",
      "        for i in 2:n+1\n",
      "            K1=h*f(t[i-1]    ,x[i-1])   \n",
      "            K2=h*f(t[i-1]+h/2,x[i-1]+K1/2)\n",
      "            K3=h*f(t[i-1]+h/2,x[i-1]+K2/2)\n",
      "            K4=h*f(t[i-1]+h  ,x[i-1]+K1)\n",
      "\n",
      "            x[i]=x[i-1]+(1/6)*(K1+2*K2+2*K3+K4)   #es la expresi\u00f3n general, depende de la funci\u00f3n definida abajo\n",
      "        end \n",
      "        \n",
      "        return x\n",
      "\n",
      "    end\n",
      "\n",
      "\n",
      "\n",
      "    function zetacero(x0,h,n,F) \n",
      "        #hasta ahora siempre t0=0\n",
      "        t0=0.0;\n",
      "        x_RK=RungeKutta4(t0,x0,h,n,F);\n",
      "        zz=Intervalo(minimum(x_RK),maximum(x_RK));\n",
      "        \n",
      "        return(Intervalo(zz.a-0.001*(zz.b-zz.a) , zz.b+0.0001*(zz.b-zz.a)))\n",
      "    end\n",
      "\n",
      "\n",
      "        \n",
      "    function BuscarTBuena(x0,h,n,F::Function)    \n",
      "        tf=n*h;\n",
      "        z0=zetacero(x0,h,n,F) \n",
      "        \n",
      "        i=0;\n",
      "        a=false;\n",
      "        while a==false\n",
      "            T=tf-h*i\n",
      "            z1=x0+Intervalo(0,T)*F(T,z0)\n",
      "            a=(z1 in z0) #la condici\u00f3n a la que quieras llegar\n",
      "            i += 1    \n",
      "        end\n",
      "        return (tf-h*i)\n",
      "    end\n",
      "        \n",
      "        \n",
      "\n",
      "\n",
      "\n",
      "end"
     ]
    },
    {
     "cell_type": "code",
     "collapsed": false,
     "input": [
      "using RungeKutta\n",
      "using PyPlot\n",
      "using Intervalos"
     ],
     "language": "python",
     "metadata": {},
     "outputs": [],
     "prompt_number": 6
    },
    {
     "cell_type": "code",
     "collapsed": false,
     "input": [
      "#PROBLEMA DE UN CIRCUITO RL CON CONDICIONES INICIALES I(O)=0, V(0)=10V, L=50H, R=20OHMS\n",
      "#LA ECUACI\u00d3N ES dI/dt= (V(0)-IR)/L\n",
      "#la soluci\u00f3n anal\u00edtica es (0.5)*(1-exp(-0.4*x))  \n",
      "\n",
      "function f(x,y) \n",
      "            V=10.\n",
      "            L=50.\n",
      "            R=20.\n",
      "            return (V-y*R)/L\n",
      "    end\n",
      "\n",
      "\n",
      "n=1000; # n\u00famero de pasos\n",
      "h=0.015; # paso de integraci\u00f3n    \n",
      "x0=0.; #tiempo inicial\n",
      "y0=0.; #condici\u00f3n inicial\n",
      "xf=x0+h*n; #tiempo final (s\u00f3lo lo puedes cambiar si aumentas n)"
     ],
     "language": "python",
     "metadata": {},
     "outputs": [
      {
       "metadata": {},
       "output_type": "pyout",
       "prompt_number": 7,
       "text": [
        "15.0"
       ]
      }
     ],
     "prompt_number": 7
    },
    {
     "cell_type": "code",
     "collapsed": false,
     "input": [
      "yanal\u00edtica(y,x)=(0.5)*(1-exp(-0.4*x)) ;  #desde antes ya conoc\u00edas la soluci\u00f3n de verdad\n",
      "yexacta=[yanal\u00edtica(0,h*(i-1)) for i in 1:n+1];\n",
      "y= RungeKutta2(x0,y0,h,n,f);\n",
      "z= RungeKutta4(x0,y0,h,n,f);\n",
      "\n",
      "PyPlot.plot(linspace(x0,xf,n+1),yexacta,\"blue\")\n",
      "PyPlot.plot(linspace(x0,xf,n+1),y,\"--r\")\n",
      "PyPlot.plot(linspace(x0,xf,n+1),z,\"-.g\")"
     ],
     "language": "python",
     "metadata": {},
     "outputs": [
      {
       "metadata": {},
       "output_type": "display_data",
       "png": "[encoded data removed]",
       "text": [
        "Figure(PyObject <matplotlib.figure.Figure object at 0x7fc674d4c4d0>)"
       ]
      },
      {
       "metadata": {},
       "output_type": "pyout",
       "prompt_number": 3,
       "text": [
        "1-element Array{Any,1}:\n",
        " PyObject <matplotlib.lines.Line2D object at 0x7fc674ce5810>"
       ]
      }
     ],
     "prompt_number": 3
    },
    {
     "cell_type": "heading",
     "level": 2,
     "metadata": {},
     "source": [
      "dx/dt=-2x; x0=3 "
     ]
    },
    {
     "cell_type": "markdown",
     "metadata": {},
     "source": [
      "resolverlo en t=[0,tf=1.5] y sacar T' que cumpla la condici\u00f3n chida"
     ]
    },
    {
     "cell_type": "code",
     "collapsed": false,
     "input": [
      "F(t,x)=-2x\n",
      "t0=0.0;\n",
      "x0=3.0;\n",
      "h=0.000015;\n",
      "n=100000;\n",
      "tf=t0+h*n;\n",
      "\n",
      "x_RK=RungeKutta4(t0,x0,h,n,F);\n",
      "zz=Intervalo(minimum(x_RK),maximum(x_RK));\n",
      "\n",
      "T=BuscarTBuena(x0,h,n,F);\n",
      "z0=zetacero(x0,h,n,F)\n",
      "#z1=3.0+Intervalo(0,T)*f(T,z0)\n",
      "PyPlot.plot(linspace(t0,tf,n+1),x_RK,\"blue\");\n",
      "PyPlot.plot(linspace(T,T,n+1),linspace(minimum(x_RK),maximum(x_RK),n+1),\"--r\")"
     ],
     "language": "python",
     "metadata": {},
     "outputs": [
      {
       "metadata": {},
       "output_type": "display_data",
       "png": "[encoded data removed]",
       "text": [
        "Figure(PyObject <matplotlib.figure.Figure object at 0x7fc6595969d0>)"
       ]
      },
      {
       "metadata": {},
       "output_type": "pyout",
       "prompt_number": 25,
       "text": [
        "1-element Array{Any,1}:\n",
        " PyObject <matplotlib.lines.Line2D object at 0x7fc659fa9390>"
       ]
      }
     ],
     "prompt_number": 25
    },
    {
     "cell_type": "code",
     "collapsed": false,
     "input": [
      "T/tf"
     ],
     "language": "python",
     "metadata": {},
     "outputs": [
      {
       "metadata": {},
       "output_type": "pyout",
       "prompt_number": 30,
       "text": [
        "0.31700999999999996"
       ]
      }
     ],
     "prompt_number": 30
    },
    {
     "cell_type": "code",
     "collapsed": false,
     "input": [
      "tf"
     ],
     "language": "python",
     "metadata": {},
     "outputs": [
      {
       "metadata": {},
       "output_type": "pyout",
       "prompt_number": 29,
       "text": [
        "1.5"
       ]
      }
     ],
     "prompt_number": 29
    },
    {
     "cell_type": "heading",
     "level": 3,
     "metadata": {},
     "source": [
      "Hasta la l\u00ednea roja vamos a poder asegurarnos que hay soluci\u00f3n con intervalos!"
     ]
    }
   ],
   "metadata": {}
  }
 ]
}