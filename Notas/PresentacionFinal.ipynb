{
 "metadata": {
  "celltoolbar": "Slideshow",
  "language": "Julia",
  "name": "",
  "signature": "sha256:2252c1c6455814afffcdb73cfa938c38b657b0a22378f0ba8a25fb2d138ae13f"
 },
 "nbformat": 3,
 "nbformat_minor": 0,
 "worksheets": [
  {
   "cells": [
    {
     "cell_type": "code",
     "collapsed": false,
     "input": [
      "using Images\n",
      "using PrimerOrden\n",
      "using Intervalos\n",
      "using RungeKutta\n",
      "using PyPlot "
     ],
     "language": "python",
     "metadata": {},
     "outputs": [],
     "prompt_number": 3
    },
    {
     "cell_type": "code",
     "collapsed": false,
     "input": [
      "imagen1=\"fig-1.gif\";"
     ],
     "language": "python",
     "metadata": {},
     "outputs": [],
     "prompt_number": 4
    },
    {
     "cell_type": "markdown",
     "metadata": {
      "slideshow": {
       "slide_type": "slide"
      }
     },
     "source": [
      "#Ecuaciones Diferenciales Ordinarias con Intervalos\n",
      "\n"
     ]
    },
    {
     "cell_type": "markdown",
     "metadata": {
      "slideshow": {
       "slide_type": "subslide"
      }
     },
     "source": [
      "\n",
      "\n",
      "##Autores:\n",
      "###          - Jos\u00e9 Ernesto Alba Arroyo\n",
      "###          - Santiago Hern\u00e1ndez G\u00f3mez"
     ]
    },
    {
     "cell_type": "markdown",
     "metadata": {
      "slideshow": {
       "slide_type": "slide"
      }
     },
     "source": [
      "#Objetivo\n",
      "\n",
      "Obtener m\u00e9todos para resolver ecuaciones diferenciales a primer orden de manera y graficar sus resultados, asegur\u00e1ndo el resultado de mandera ***rigurosa*** hasta un tiempo determinado. Es decir, resolver el PVI:\n",
      "\n",
      "\n",
      "\\begin{equation}\n",
      "    \\left\\{\n",
      "        \\begin{array}{ll}\n",
      "            \\dot{x}(t)=f(x(t)), \\hspace{1cm} t \\in [0,T'] \\\\\n",
      "            x(t_0)=x_0.\n",
      "        \\end{array}\n",
      "    \\right.\n",
      "\\end{equation}\n",
      "\n",
      "Por medio de intervalos hasta un tiempo $T'$"
     ]
    },
    {
     "cell_type": "markdown",
     "metadata": {
      "slideshow": {
       "slide_type": "slide"
      }
     },
     "source": [
      "#M\u00e9todo de Runge Kutta 2 y 4 para n\u00fameros\n",
      "\n",
      "Son m\u00e9todos iterativos de **orden de convergencia fijo** para encontrar la soluci\u00f3n de una ecuaci\u00f3n diferencial de manera **aproximada**. Utilizan el desarrollo de Taylor (de orden 2 o 4) de la derivada de la funci\u00f3n $f(x,t)$.\n",
      "\n",
      "Sus inputs son: $t_0$ (tiempo inicial), $x_0$ (condici\u00f3n inicial), $dt$ (longitud del paso de integraci\u00f3n), $n$  (n\u00famero de pasos de integraci\u00f3n)"
     ]
    },
    {
     "cell_type": "code",
     "collapsed": false,
     "input": [
      "imread(imagen1)"
     ],
     "language": "python",
     "metadata": {
      "slideshow": {
       "slide_type": "-"
      }
     },
     "outputs": [
      {
       "metadata": {},
       "output_type": "pyout",
       "prompt_number": 5,
       "text": [
        "962x419x4 Array{Uint8,3}:\n",
        "[:, :, 1] =\n",
        " 0xff  0xff  0xff  0xff  0xff  0xff  \u2026  0xff  0xff  0xff  0xff  0xff  0xff\n",
        " 0xff  0xff  0xff  0xff  0xff  0xff     0xff  0xff  0xff  0xff  0xff  0xff\n",
        " 0xff  0xff  0xff  0xff  0xff  0xff     0xff  0xff  0xff  0xff  0xff  0xff\n",
        " 0xff  0xff  0xff  0xff  0xff  0xff     0xff  0xff  0xff  0xff  0xff  0xff\n",
        " 0xff  0xff  0xff  0xff  0xff  0xff     0xff  0xff  0xff  0xff  0xff  0xff\n",
        " 0xff  0xff  0xff  0xff  0xff  0xff  \u2026  0xff  0xff  0xff  0xff  0xff  0xff\n",
        " 0xff  0xff  0xff  0xff  0xff  0xff     0xff  0xff  0xff  0xff  0xff  0xff\n",
        " 0xff  0xff  0xff  0xff  0xff  0xff     0xff  0xff  0xff  0xff  0xff  0xff\n",
        " 0xff  0xff  0xff  0xff  0xff  0xff     0xff  0xff  0xff  0xff  0xff  0xff\n",
        " 0xff  0xff  0xff  0xff  0xff  0xff     0xff  0xff  0xff  0xff  0xff  0xff\n",
        " 0xff  0xff  0xff  0xff  0xff  0xff  \u2026  0xff  0xff  0xff  0xff  0xff  0xff\n",
        " 0xff  0xff  0xff  0xff  0xff  0xff     0xff  0xff  0xff  0xff  0xff  0xff\n",
        " 0xff  0xff  0xff  0xff  0xff  0xff     0xff  0xff  0xff  0xff  0xff  0xff\n",
        "    \u22ee                             \u22ee  \u22f1                 \u22ee                  \n",
        " 0xff  0xff  0xff  0xff  0xff  0xff  \u2026  0xff  0xff  0xff  0xff  0xff  0xff\n",
        " 0xff  0xff  0xff  0xff  0xff  0xff     0xff  0xff  0xff  0xff  0xff  0xff\n",
        " 0xff  0xff  0xff  0xff  0xff  0xff     0xff  0xff  0xff  0xff  0xff  0xff\n",
        " 0xff  0xff  0xff  0xff  0xff  0xff     0xff  0xff  0xff  0xff  0xff  0xff\n",
        " 0xff  0xff  0xff  0xff  0xff  0xff     0xff  0xff  0xff  0xff  0xff  0xff\n",
        " 0xff  0xff  0xff  0xff  0xff  0xff  \u2026  0xff  0xff  0xff  0xff  0xff  0xff\n",
        " 0xff  0xff  0xff  0xff  0xff  0xff     0xff  0xff  0xff  0xff  0xff  0xff\n",
        " 0xff  0xff  0xff  0xff  0xff  0xff     0xff  0xff  0xff  0xff  0xff  0xff\n",
        " 0xff  0xff  0xff  0xff  0xff  0xff     0xff  0xff  0xff  0xff  0xff  0xff\n",
        " 0xff  0xff  0xff  0xff  0xff  0xff     0xff  0xff  0xff  0xff  0xff  0xff\n",
        " 0xff  0xff  0xff  0xff  0xff  0xff  \u2026  0xff  0xff  0xff  0xff  0xff  0xff\n",
        " 0xff  0xff  0xff  0xff  0xff  0xff     0xff  0xff  0xff  0xff  0xff  0xff\n",
        "\n",
        "[:, :, 2] =\n",
        " 0xff  0xff  0xff  0xff  0xff  0xff  \u2026  0xff  0xff  0xff  0xff  0xff  0xff\n",
        " 0xff  0xff  0xff  0xff  0xff  0xff     0xff  0xff  0xff  0xff  0xff  0xff\n",
        " 0xff  0xff  0xff  0xff  0xff  0xff     0xff  0xff  0xff  0xff  0xff  0xff\n",
        " 0xff  0xff  0xff  0xff  0xff  0xff     0xff  0xff  0xff  0xff  0xff  0xff\n",
        " 0xff  0xff  0xff  0xff  0xff  0xff     0xff  0xff  0xff  0xff  0xff  0xff\n",
        " 0xff  0xff  0xff  0xff  0xff  0xff  \u2026  0xff  0xff  0xff  0xff  0xff  0xff\n",
        " 0xff  0xff  0xff  0xff  0xff  0xff     0xff  0xff  0xff  0xff  0xff  0xff\n",
        " 0xff  0xff  0xff  0xff  0xff  0xff     0xff  0xff  0xff  0xff  0xff  0xff\n",
        " 0xff  0xff  0xff  0xff  0xff  0xff     0xff  0xff  0xff  0xff  0xff  0xff\n",
        " 0xff  0xff  0xff  0xff  0xff  0xff     0xff  0xff  0xff  0xff  0xff  0xff\n",
        " 0xff  0xff  0xff  0xff  0xff  0xff  \u2026  0xff  0xff  0xff  0xff  0xff  0xff\n",
        " 0xff  0xff  0xff  0xff  0xff  0xff     0xff  0xff  0xff  0xff  0xff  0xff\n",
        " 0xff  0xff  0xff  0xff  0xff  0xff     0xff  0xff  0xff  0xff  0xff  0xff\n",
        "    \u22ee                             \u22ee  \u22f1                 \u22ee                  \n",
        " 0xff  0xff  0xff  0xff  0xff  0xff  \u2026  0xff  0xff  0xff  0xff  0xff  0xff\n",
        " 0xff  0xff  0xff  0xff  0xff  0xff     0xff  0xff  0xff  0xff  0xff  0xff\n",
        " 0xff  0xff  0xff  0xff  0xff  0xff     0xff  0xff  0xff  0xff  0xff  0xff\n",
        " 0xff  0xff  0xff  0xff  0xff  0xff     0xff  0xff  0xff  0xff  0xff  0xff\n",
        " 0xff  0xff  0xff  0xff  0xff  0xff     0xff  0xff  0xff  0xff  0xff  0xff\n",
        " 0xff  0xff  0xff  0xff  0xff  0xff  \u2026  0xff  0xff  0xff  0xff  0xff  0xff\n",
        " 0xff  0xff  0xff  0xff  0xff  0xff     0xff  0xff  0xff  0xff  0xff  0xff\n",
        " 0xff  0xff  0xff  0xff  0xff  0xff     0xff  0xff  0xff  0xff  0xff  0xff\n",
        " 0xff  0xff  0xff  0xff  0xff  0xff     0xff  0xff  0xff  0xff  0xff  0xff\n",
        " 0xff  0xff  0xff  0xff  0xff  0xff     0xff  0xff  0xff  0xff  0xff  0xff\n",
        " 0xff  0xff  0xff  0xff  0xff  0xff  \u2026  0xff  0xff  0xff  0xff  0xff  0xff\n",
        " 0xff  0xff  0xff  0xff  0xff  0xff     0xff  0xff  0xff  0xff  0xff  0xff\n",
        "\n",
        "[:, :, 3] =\n",
        " 0xff  0xff  0xff  0xff  0xff  0xff  \u2026  0xff  0xff  0xff  0xff  0xff  0xff\n",
        " 0xff  0xff  0xff  0xff  0xff  0xff     0xff  0xff  0xff  0xff  0xff  0xff\n",
        " 0xff  0xff  0xff  0xff  0xff  0xff     0xff  0xff  0xff  0xff  0xff  0xff\n",
        " 0xff  0xff  0xff  0xff  0xff  0xff     0xff  0xff  0xff  0xff  0xff  0xff\n",
        " 0xff  0xff  0xff  0xff  0xff  0xff     0xff  0xff  0xff  0xff  0xff  0xff\n",
        " 0xff  0xff  0xff  0xff  0xff  0xff  \u2026  0xff  0xff  0xff  0xff  0xff  0xff\n",
        " 0xff  0xff  0xff  0xff  0xff  0xff     0xff  0xff  0xff  0xff  0xff  0xff\n",
        " 0xff  0xff  0xff  0xff  0xff  0xff     0xff  0xff  0xff  0xff  0xff  0xff\n",
        " 0xff  0xff  0xff  0xff  0xff  0xff     0xff  0xff  0xff  0xff  0xff  0xff\n",
        " 0xff  0xff  0xff  0xff  0xff  0xff     0xff  0xff  0xff  0xff  0xff  0xff\n",
        " 0xff  0xff  0xff  0xff  0xff  0xff  \u2026  0xff  0xff  0xff  0xff  0xff  0xff\n",
        " 0xff  0xff  0xff  0xff  0xff  0xff     0xff  0xff  0xff  0xff  0xff  0xff\n",
        " 0xff  0xff  0xff  0xff  0xff  0xff     0xff  0xff  0xff  0xff  0xff  0xff\n",
        "    \u22ee                             \u22ee  \u22f1                 \u22ee                  \n",
        " 0xff  0xff  0xff  0xff  0xff  0xff  \u2026  0xff  0xff  0xff  0xff  0xff  0xff\n",
        " 0xff  0xff  0xff  0xff  0xff  0xff     0xff  0xff  0xff  0xff  0xff  0xff\n",
        " 0xff  0xff  0xff  0xff  0xff  0xff     0xff  0xff  0xff  0xff  0xff  0xff\n",
        " 0xff  0xff  0xff  0xff  0xff  0xff     0xff  0xff  0xff  0xff  0xff  0xff\n",
        " 0xff  0xff  0xff  0xff  0xff  0xff     0xff  0xff  0xff  0xff  0xff  0xff\n",
        " 0xff  0xff  0xff  0xff  0xff  0xff  \u2026  0xff  0xff  0xff  0xff  0xff  0xff\n",
        " 0xff  0xff  0xff  0xff  0xff  0xff     0xff  0xff  0xff  0xff  0xff  0xff\n",
        " 0xff  0xff  0xff  0xff  0xff  0xff     0xff  0xff  0xff  0xff  0xff  0xff\n",
        " 0xff  0xff  0xff  0xff  0xff  0xff     0xff  0xff  0xff  0xff  0xff  0xff\n",
        " 0xff  0xff  0xff  0xff  0xff  0xff     0xff  0xff  0xff  0xff  0xff  0xff\n",
        " 0xff  0xff  0xff  0xff  0xff  0xff  \u2026  0xff  0xff  0xff  0xff  0xff  0xff\n",
        " 0xff  0xff  0xff  0xff  0xff  0xff     0xff  0xff  0xff  0xff  0xff  0xff\n",
        "\n",
        "[:, :, 4] =\n",
        " 0x00  0x00  0x00  0x00  0x00  0x00  \u2026  0x00  0x00  0x00  0x00  0x00  0x00\n",
        " 0x00  0x00  0x00  0x00  0x00  0x00     0x00  0x00  0x00  0x00  0x00  0x00\n",
        " 0x00  0x00  0x00  0x00  0x00  0x00     0x00  0x00  0x00  0x00  0x00  0x00\n",
        " 0x00  0x00  0x00  0x00  0x00  0x00     0x00  0x00  0x00  0x00  0x00  0x00\n",
        " 0x00  0x00  0x00  0x00  0x00  0x00     0x00  0x00  0x00  0x00  0x00  0x00\n",
        " 0x00  0x00  0x00  0x00  0x00  0x00  \u2026  0x00  0x00  0x00  0x00  0x00  0x00\n",
        " 0x00  0x00  0x00  0x00  0x00  0x00     0x00  0x00  0x00  0x00  0x00  0x00\n",
        " 0x00  0x00  0x00  0x00  0x00  0x00     0x00  0x00  0x00  0x00  0x00  0x00\n",
        " 0x00  0x00  0x00  0x00  0x00  0x00     0x00  0x00  0x00  0x00  0x00  0x00\n",
        " 0x00  0x00  0x00  0x00  0x00  0x00     0x00  0x00  0x00  0x00  0x00  0x00\n",
        " 0x00  0x00  0x00  0x00  0x00  0x00  \u2026  0x00  0x00  0x00  0x00  0x00  0x00\n",
        " 0x00  0x00  0x00  0x00  0x00  0x00     0x00  0x00  0x00  0x00  0x00  0x00\n",
        " 0x00  0x00  0x00  0x00  0x00  0x00     0x00  0x00  0x00  0x00  0x00  0x00\n",
        "    \u22ee                             \u22ee  \u22f1                 \u22ee                  \n",
        " 0x00  0x00  0x00  0x00  0x00  0x00  \u2026  0x00  0x00  0x00  0x00  0x00  0x00\n",
        " 0x00  0x00  0x00  0x00  0x00  0x00     0x00  0x00  0x00  0x00  0x00  0x00\n",
        " 0x00  0x00  0x00  0x00  0x00  0x00     0x00  0x00  0x00  0x00  0x00  0x00\n",
        " 0x00  0x00  0x00  0x00  0x00  0x00     0x00  0x00  0x00  0x00  0x00  0x00\n",
        " 0x00  0x00  0x00  0x00  0x00  0x00     0x00  0x00  0x00  0x00  0x00  0x00\n",
        " 0x00  0x00  0x00  0x00  0x00  0x00  \u2026  0x00  0x00  0x00  0x00  0x00  0x00\n",
        " 0x00  0x00  0x00  0x00  0x00  0x00     0x00  0x00  0x00  0x00  0x00  0x00\n",
        " 0x00  0x00  0x00  0x00  0x00  0x00     0x00  0x00  0x00  0x00  0x00  0x00\n",
        " 0x00  0x00  0x00  0x00  0x00  0x00     0x00  0x00  0x00  0x00  0x00  0x00\n",
        " 0x00  0x00  0x00  0x00  0x00  0x00     0x00  0x00  0x00  0x00  0x00  0x00\n",
        " 0x00  0x00  0x00  0x00  0x00  0x00  \u2026  0x00  0x00  0x00  0x00  0x00  0x00\n",
        " 0x00  0x00  0x00  0x00  0x00  0x00     0x00  0x00  0x00  0x00  0x00  0x00"
       ]
      }
     ],
     "prompt_number": 5
    },
    {
     "cell_type": "markdown",
     "metadata": {
      "slideshow": {
       "slide_type": "slide"
      }
     },
     "source": [
      "#M\u00e9todo de Primer Orden (Euler de Intervalos)\n",
      "\n",
      "Partimos de que tenemos un intervalo $z_0$, \"sacado de la manga\",  que contiene a la soluci\u00f3n hasta un tiempo $n*dt$. \n",
      "\n",
      "**Nuestra propuesta** es que este $z_0$ se calcula con la soluci\u00f3n con el m\u00e9todo de Runge Kutta a orden 4 y se engrosa sum\u00e1ndole a los extremos $\\pm$ $0.001$ del radio del intervalo conformado por el m\u00ednimo y el m\u00e1ximo de la trayectoria. "
     ]
    },
    {
     "cell_type": "code",
     "collapsed": false,
     "input": [
      "tic()\n",
      "\n",
      "# d/dt x(t) = -2x(t) ; x(0)=3   \u2192    x(t)= 3 exp(-2t)\n",
      "\n",
      "f(t,x)=exp(-x^2)\n",
      "f(x)=exp(-x^2)\n",
      "\n",
      "t0=0.0;\n",
      "x0=1.0;\n",
      "dt=2.0^-12;\n",
      "n=2^12;\n",
      "tf=t0+dt*n;\n",
      "x_RK=RungeKutta4(t0,x0,dt,n,f);\n",
      "z0=zetacero(x0,dt,n,f); \n",
      "\n",
      "\n",
      "PyPlot.plot(linspace(t0,tf,n+1),x_RK,\"r\")\n",
      "PyPlot.fill_between([0,1],float64(z0.a-0.2),float64(z0.b+0.2),color=\"lightblue\")\n",
      "#PyPlot.xlim([-.1,1])\n",
      "Intervalo(x_RK[1],x_RK[end]) in z0\n",
      "\n",
      "toc()\n"
     ],
     "language": "python",
     "metadata": {
      "slideshow": {
       "slide_type": "-"
      }
     },
     "outputs": [
      {
       "output_type": "stream",
       "stream": "stdout",
       "text": [
        "elapsed time: 1"
       ]
      },
      {
       "output_type": "stream",
       "stream": "stdout",
       "text": [
        ".389987744 seconds\n"
       ]
      },
      {
       "metadata": {},
       "output_type": "display_data",
       "png": "[encoded data removed]",
       "text": [
        "Figure(PyObject <matplotlib.figure.Figure object at 0x7f8bdeb9dd10>)"
       ]
      },
      {
       "metadata": {},
       "output_type": "pyout",
       "prompt_number": 6,
       "text": [
        "1.389987744"
       ]
      }
     ],
     "prompt_number": 6
    },
    {
     "cell_type": "markdown",
     "metadata": {
      "slideshow": {
       "slide_type": "slide"
      }
     },
     "source": [
      "##Primer paso de integraci\u00f3n\n",
      "###En primer lugar queremos mejorar esto acotando \"verticalmente\" (en el eje x):\n",
      "Primero quisi\u00e9ramos una secuencia de intervalos anidados  e independientes del tiempo ,  $\\mathbf{z}^{k}$, que est\u00e9n contenidos en $\\mathbf{z}^{0}$ (y que contengan a toda la trayectoria). \n",
      "\n",
      "Una propuesta para estos intervalos anidados es:\n",
      "\n",
      "\\begin{equation}\n",
      "    \\mathbf{z}^{(k+1)}(t)= x_0 + \\int_0^T F(\\mathbf{z}^{(k)})ds = x_0 + \\left[0,T \\right] \\times F(\\mathbf{z}^{(k)})\n",
      "\\end{equation}\n",
      "\n"
     ]
    },
    {
     "cell_type": "markdown",
     "metadata": {
      "slideshow": {
       "slide_type": "subslide"
      }
     },
     "source": [
      "[Tucker] Nos asegura, por medio de teoremas que involucran que $f$ y su extensi\u00f3n $F$ sean una funciones Lifshitz, que si encontramos la $T=T'$ que hace que $\\mathbf{z}^{(1)} \\subseteq \\mathbf{z}^{(0)}$, podemos asegurarnos que $\\mathbf{z}^{(k)} \\subseteq \\mathbf{z}^{(k-1)}$ Para toda $k$.\n",
      "\n",
      "El problema es que $T=T' \\le n \\;dt=t_f $ (hicimos una funci\u00f3n BuscarTBuena)\n",
      "\n",
      "Esto ayuda hasta cierto punto, pues dependiendo de la forma de $f$ siempre se llega hasta una $k'$ tal que  $z^{(k+1)}=z^{(k)}$.\n",
      "\n",
      "\n",
      "Lo anterior da encasillamientos con forma de *rect\u00e1ngulo*, estar\u00eda mejor si tomamos encasillamientos en forma de *cono*, es decir tomar:\n",
      "\n",
      "\\begin{equation}\n",
      "    \\mathbf{z}^{(k+1)}(t)= x_0 + \\int_0^T F(\\mathbf{z}^{(k)})ds = x_0 + t * F(\\mathbf{z}^{(k)})\n",
      "\\end{equation}\n",
      "\n",
      "donde $t \\in [0,T]$"
     ]
    },
    {
     "cell_type": "markdown",
     "metadata": {
      "slideshow": {
       "slide_type": "slide"
      }
     },
     "source": [
      "###Ahora queremos mejorar esto acotando \"verticalmente\" (en el eje t):\n"
     ]
    },
    {
     "cell_type": "markdown",
     "metadata": {
      "slideshow": {
       "slide_type": "subslide"
      }
     },
     "source": [
      "\n",
      "\n",
      "Obviamente no basta con lo anterior y se tienen que hacer *conos*, es decir, particiones en el tiempo $[0,T']$.\n",
      "\n",
      "\n",
      "Esto es, para un tiempo $t\\in [0,T']$ tenemos: \n",
      "\n",
      "\\begin{equation}\n",
      "    \\mathbf{C}^{(k)}(\\mathbf{x}, t)= \\mathbf{x} + t F(\\mathbf{z}^{(k)})\n",
      "\\end{equation}\n",
      "\n",
      "Usando el hecho de que \n"
     ]
    },
    {
     "cell_type": "code",
     "collapsed": false,
     "input": [
      "YA TENEMOS LA ENVOLVENTE: ES DECIR UNA FUNCI\u00d3N QUE HASTA TBUENA HACE K PARTICIONES EN EL TIEMPO Y ENCASILLA LA SOLUCI\u00d3N (PERO HASTA T BUENA!!!!)"
     ],
     "language": "python",
     "metadata": {},
     "outputs": [
      {
       "ename": "LoadError",
       "evalue": "syntax: extra token \"TENEMOS\" after end of expression\nwhile loading In[64], in expression starting on line 1",
       "output_type": "pyerr",
       "traceback": [
        "syntax: extra token \"TENEMOS\" after end of expression\nwhile loading In[64], in expression starting on line 1",
        ""
       ]
      }
     ],
     "prompt_number": 64
    },
    {
     "cell_type": "markdown",
     "metadata": {},
     "source": []
    },
    {
     "cell_type": "markdown",
     "metadata": {},
     "source": [
      "##Segundo paso de integraci\u00f3n y adelante\n"
     ]
    },
    {
     "cell_type": "code",
     "collapsed": false,
     "input": [],
     "language": "python",
     "metadata": {},
     "outputs": []
    },
    {
     "cell_type": "code",
     "collapsed": false,
     "input": [],
     "language": "python",
     "metadata": {},
     "outputs": []
    },
    {
     "cell_type": "code",
     "collapsed": false,
     "input": [
      "t1=10.1\n",
      "t2=20\n",
      "typeof(minimum([t1,t2]))"
     ],
     "language": "python",
     "metadata": {},
     "outputs": [
      {
       "metadata": {},
       "output_type": "pyout",
       "prompt_number": 63,
       "text": [
        "Float64"
       ]
      }
     ],
     "prompt_number": 63
    },
    {
     "cell_type": "code",
     "collapsed": false,
     "input": [],
     "language": "python",
     "metadata": {},
     "outputs": []
    },
    {
     "cell_type": "code",
     "collapsed": false,
     "input": [],
     "language": "python",
     "metadata": {},
     "outputs": []
    },
    {
     "cell_type": "markdown",
     "metadata": {
      "slideshow": {
       "slide_type": "slide"
      }
     },
     "source": [
      "#Bibliograf\u00eda\n",
      "\n",
      "[Tucker] Tucker, Warwick. *Validated Numerics. A short Introduction to Rigorous Computations*. Princeton University Press.2011"
     ]
    },
    {
     "cell_type": "code",
     "collapsed": false,
     "input": [],
     "language": "python",
     "metadata": {},
     "outputs": []
    },
    {
     "cell_type": "code",
     "collapsed": false,
     "input": [],
     "language": "python",
     "metadata": {},
     "outputs": []
    },
    {
     "cell_type": "code",
     "collapsed": false,
     "input": [],
     "language": "python",
     "metadata": {},
     "outputs": []
    },
    {
     "cell_type": "code",
     "collapsed": false,
     "input": [],
     "language": "python",
     "metadata": {},
     "outputs": []
    },
    {
     "cell_type": "code",
     "collapsed": false,
     "input": [],
     "language": "python",
     "metadata": {},
     "outputs": []
    }
   ],
   "metadata": {}
  }
 ]
}