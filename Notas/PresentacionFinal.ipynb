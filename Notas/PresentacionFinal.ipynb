{
 "metadata": {
  "celltoolbar": "Slideshow",
  "language": "Julia",
  "name": "",
  "signature": "sha256:baa46371f634bd13cf8742cf7e82f2c565311ebe9c4c8542c9115289d1ee9f5f"
 },
 "nbformat": 3,
 "nbformat_minor": 0,
 "worksheets": [
  {
   "cells": [
    {
     "cell_type": "code",
     "collapsed": false,
     "input": [
      "using Images\n",
      "imagen1=\"fig-1.gif\";"
     ],
     "language": "python",
     "metadata": {},
     "outputs": [],
     "prompt_number": 4
    },
    {
     "cell_type": "markdown",
     "metadata": {
      "slideshow": {
       "slide_type": "slide"
      }
     },
     "source": [
      "#Ecuaciones Diferenciales Ordinarias con Intervalos\n",
      "\n"
     ]
    },
    {
     "cell_type": "markdown",
     "metadata": {
      "slideshow": {
       "slide_type": "subslide"
      }
     },
     "source": [
      "\n",
      "\n",
      "##Autores:\n",
      "###          - Jos\u00e9 Ernesto Alba Arroyo\n",
      "###          - Santiago Hern\u00e1ndez G\u00f3mez"
     ]
    },
    {
     "cell_type": "markdown",
     "metadata": {
      "slideshow": {
       "slide_type": "slide"
      }
     },
     "source": [
      "#Objetivo\n",
      "\n",
      "Obtener m\u00e9todos para resolver ecuaciones diferenciales a primer orden de manera y graficar sus resultados, asegur\u00e1ndo el resultado de mandera ***rigurosa*** hasta un tiempo determinado. Es decir, resolver el PVI:\n",
      "\n",
      "\n",
      "\\begin{equation}\n",
      "    \\left\\{\n",
      "        \\begin{array}{ll}\n",
      "            \\dot{x}(t)=f(x(t)), \\hspace{1cm} t \\in [0,T'] \\\\\n",
      "            x(t_0)=x_0.\n",
      "        \\end{array}\n",
      "    \\right.\n",
      "\\end{equation}\n",
      "\n",
      "Por medio de intervalos hasta un tiempo $T'$"
     ]
    },
    {
     "cell_type": "markdown",
     "metadata": {
      "slideshow": {
       "slide_type": "slide"
      }
     },
     "source": [
      "#M\u00e9todo de Runge Kutta 2 y 4 para n\u00fameros\n",
      "\n",
      "Son m\u00e9todos iterativos de **orden de convergencia fijo** para encontrar la soluci\u00f3n de una ecuaci\u00f3n diferencial de manera **aproximada**. Utilizan el desarrollo de Taylor (de orden 2 o 4) de la derivada de la funci\u00f3n $f(x,t)$.\n",
      "\n",
      "Sus inputs son: $t_0$ (tiempo inicial), $x_0$ (condici\u00f3n inicial), $dt$ (longitud del paso de integraci\u00f3n), $n$  (n\u00famero de pasos de integraci\u00f3n)"
     ]
    },
    {
     "cell_type": "code",
     "collapsed": false,
     "input": [
      "imread(imagen1)"
     ],
     "language": "python",
     "metadata": {
      "slideshow": {
       "slide_type": "-"
      }
     },
     "outputs": [
      {
       "metadata": {},
       "output_type": "pyout",
       "png": "[encoded data removed]",
       "prompt_number": 5,
       "text": [
        "BGRA Image with:\n",
        "  data: 419x962 Array{AlphaColorValue{BGR{UfixedBase{Uint8,8}},UfixedBase{Uint8,8}},2}\n",
        "  properties:\n",
        "    IMcs: sRGB\n",
        "    spatialorder:  x y\n",
        "    pixelspacing:  1 1"
       ]
      }
     ],
     "prompt_number": 5
    },
    {
     "cell_type": "code",
     "collapsed": false,
     "input": [],
     "language": "python",
     "metadata": {
      "slideshow": {
       "slide_type": "slide"
      }
     },
     "outputs": []
    }
   ],
   "metadata": {}
  }
 ]
}