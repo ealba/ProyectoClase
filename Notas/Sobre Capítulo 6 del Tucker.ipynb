{
 "metadata": {
  "kernelspec": {
   "display_name": "Julia 0.3.6",
   "language": "julia",
   "name": "julia 0.3"
  },
  "language": "Julia",
  "language_info": {
   "name": "julia",
   "version": "0.3.7"
  },
  "name": "",
  "signature": "sha256:026168b091aa234901061f9e3078f9b1f6279a376ddf53e370b2819a0d31fdf2"
 },
 "nbformat": 3,
 "nbformat_minor": 0,
 "worksheets": [
  {
   "cells": [
    {
     "cell_type": "markdown",
     "metadata": {},
     "source": [
      "#### Las siguientes son Notas sacadas del Cap\u00edtulo 6 del libro\n",
      "    \n",
      "    Validated Numerics: A Short Introduction to Rigorous Computations\n",
      "    Warwick Tucker"
     ]
    },
    {
     "cell_type": "markdown",
     "metadata": {},
     "source": [
      "En la secci\u00f3n $6.2$ lo que queremos es resolver el problema de valores iniciales (IVP):\n",
      "\\begin{equation}\n",
      "    \\left\\{\n",
      "        \\begin{array}{ll}\n",
      "            \\dot{x}(t)=f(x(t)), \\hspace{1cm} t \\in [0,T'] \\\\\n",
      "            x(0)=x_0.\n",
      "        \\end{array}\n",
      "    \\right.\n",
      "\\end{equation}\n",
      "\n",
      "Para lo cual partimos de suponer que conocemos una extensi\u00f3n de intervalo $\\Psi$ talque $x(t) \\in \\Psi(t)$ para toda $t \\in [0,T']$ **(esta $\\Psi (t)$ se refiere a que tenemos una soluci\u00f3n sacada por otros m\u00e9todos y le damos una anchura DE ALGUNA FORMA) ** . \n",
      "Esto se puede traducir a que:\n",
      "\n",
      "\\begin{equation}\n",
      "    x(t) \\in x_0 + \\int_0^t F\\left(\\Psi(s)\\right)ds \n",
      "\\end{equation}\n",
      "\n",
      "Donde $F$ es la extensi\u00f3n de intervalo de $f$. Por lo que al final no debemos probar que $x(t) \\in \\Psi(t)$ sino que\n",
      "\n",
      "\\begin{equation}\n",
      "    x_0 + \\int_0^t F\\left(\\Psi(s)\\right)ds \\subseteq \\Psi(t) , \\hspace{1cm} t \\in \\left[0,T'\\right]\n",
      "\\end{equation}"
     ]
    },
    {
     "cell_type": "markdown",
     "metadata": {},
     "source": [
      "Cito textualmente:\n",
      "\n",
      "    \"If this condition holds, it follows by Brouwer\u2019s fixed point theorem (Theorem A.12) that the enclosure \u03a8(t) contains at least one fixed point of the integral operator (6.6). This means that it indeed encloses at least one solution to the IVP (6.4).\""
     ]
    },
    {
     "cell_type": "markdown",
     "metadata": {},
     "source": [
      "Por otro lado esta condici\u00f3n tambien implica que $\\Psi^{(k+1)} \\subseteq \\Psi^{(k)}$ donde los ordenes de las $\\Psi$'s est\u00e1n dados por:\n",
      "\n",
      "\\begin{align}\n",
      "    \\Psi^{(0)}(t)&=\\Psi(t) \\\\\n",
      "    \\Psi^{(k+1)}(t)&= x_0 + \\int_0^t F\\left(\\Psi^{(k)}(s)\\right)ds\n",
      "\\end{align}"
     ]
    },
    {
     "cell_type": "markdown",
     "metadata": {},
     "source": [
      "En un punto de partida muy sencillo podemos suponer que vamos a tomar intervalos constantes $\\Psi^{(k)}(t)=\\mathbf{z}^{(k)}$. De modo que las $\\mathbf{z}$'s anidadas sean:\n",
      "\n",
      "\\begin{align}\n",
      "    \\mathbf{z}^{(k+1)}(t)= x_0 + \\int_0^t F(\\mathbf{z}^{(k)})ds = x_0 + \\left[0,T'\\right] \\times F(\\mathbf{z}^{(k)})\n",
      "\\end{align}\n",
      "\n",
      "**Donde $\\mathbf{z}^{(0)}$ es un intervalo que contiene a la condici\u00f3n inicial.**\n"
     ]
    },
    {
     "cell_type": "markdown",
     "metadata": {},
     "source": [
      "Estos rect\u00e1ngulos son cotas demasiado grandes, podemos reducirlo a tri\u00e1ngulos de modo que \n",
      "\n",
      "\\begin{equation}\n",
      "    x(t) \\in x_0 + t F(\\mathbf{z}^{(k)})\n",
      "\\end{equation}"
     ]
    },
    {
     "cell_type": "markdown",
     "metadata": {},
     "source": [
      "using Images\n",
      "cadena=\"/home/santiago/Documentos/Libros/Fisica/M\u00e9todos Num\u00e9ricos/Warwick_Tucker_Validated_Numerics_A_Short_IntroBookZZ.org.epub_FILES/OPS/images/f0109-01.jpg\"\n",
      "imread(ca|dena)"
     ]
    },
    {
     "cell_type": "code",
     "collapsed": true,
     "input": [],
     "language": "python",
     "metadata": {},
     "outputs": [],
     "prompt_number": null
    },
    {
     "cell_type": "code",
     "collapsed": false,
     "input": [
      "using PyPlot\n",
      "using Intervalos"
     ],
     "language": "python",
     "metadata": {},
     "outputs": [
      {
       "output_type": "stream",
       "stream": "stderr",
       "text": [
        "INFO: Loading help data...\n"
       ]
      }
     ],
     "prompt_number": 1
    },
    {
     "cell_type": "code",
     "collapsed": false,
     "input": [
      " ####d/dt x(t) = -2x(t) ; x(0)=3   \u2192    x(t)= 3 exp(-2t)\n",
      "\n",
      "f(x)= -2*x\n",
      "x(t)=3*exp(-2*t)\n",
      "\n",
      "t=0:2.0^-2:5 #el tiempo va de cero a cinco\n",
      "\n",
      "PyPlot.plot(t,x(t))\n",
      "\n",
      "x0=Intervalo[]\n",
      "x0Top=similar(t)\n",
      "x0Bot=similar(t)\n",
      "\n",
      "for i=1:length(t)\n",
      "    push!(x0,3 + t[i]*f(Intervalo(0,3))) \n",
      "    x0Top[i]=x0[i].b\n",
      "    x0Bot[i]=x0[i].a\n",
      "    PyPlot.plot(t[i]*[1,1],Float64[x0[i].a,x0[i].b],\"--g\")\n",
      "end\n",
      "\n",
      "PyPlot.plot(t,x0Top,\"-r\")\n",
      "PyPlot.plot(t,x0Bot,\"-r\");"
     ],
     "language": "python",
     "metadata": {},
     "outputs": [
      {
       "metadata": {},
       "output_type": "display_data",
       "png": "[encoded data removed]",
       "text": [
        "Figure(PyObject <matplotlib.figure.Figure object at 0x7ff14c4a7b50>)"
       ]
      }
     ],
     "prompt_number": 26
    },
    {
     "cell_type": "code",
     "collapsed": false,
     "input": [
      "a=Intervalo[];\n",
      "\n",
      "\n",
      "b=similar(t)"
     ],
     "language": "python",
     "metadata": {},
     "outputs": [
      {
       "metadata": {},
       "output_type": "pyout",
       "prompt_number": 24,
       "text": [
        "1-element Array{Int64,1}:\n",
        " 0"
       ]
      }
     ],
     "prompt_number": 24
    },
    {
     "cell_type": "code",
     "collapsed": false,
     "input": [],
     "language": "python",
     "metadata": {},
     "outputs": []
    }
   ],
   "metadata": {}
  }
 ]
}