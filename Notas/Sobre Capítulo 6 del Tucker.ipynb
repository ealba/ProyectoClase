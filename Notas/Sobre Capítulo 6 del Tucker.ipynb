{
 "metadata": {
  "kernelspec": {
   "display_name": "Julia 0.3.6",
   "language": "julia",
   "name": "julia 0.3"
  },
  "language": "Julia",
  "language_info": {
   "name": "julia",
   "version": "0.3.7"
  },
  "name": "",
  "signature": "sha256:be926eca30e918b7fb64b55eb8f68f8685506e258bc63e8504f6b04a5e66f23e"
 },
 "nbformat": 3,
 "nbformat_minor": 0,
 "worksheets": [
  {
   "cells": [
    {
     "cell_type": "markdown",
     "metadata": {},
     "source": [
      "#### Las siguientes son Notas sacadas del Cap\u00edtulo 6 del libro\n",
      "    \n",
      "    Validated Numerics: A Short Introduction to Rigorous Computations\n",
      "    Warwick Tucker"
     ]
    },
    {
     "cell_type": "markdown",
     "metadata": {},
     "source": [
      "En la secci\u00f3n $6.2$ lo que queremos es resolver el problema de valores iniciales (IVP):\n",
      "\\begin{equation}\n",
      "    \\left\\{\n",
      "        \\begin{array}{ll}\n",
      "            \\dot{x}(t)=f(x(t)), \\hspace{1cm} t \\in [0,T'] \\\\\n",
      "            x(0)=x_0.\n",
      "        \\end{array}\n",
      "    \\right.\n",
      "\\end{equation}\n",
      "\n",
      "Esto implica que \n",
      "\\begin{equation}\n",
      "    x(t)=x_0 + \\int_0^t f\\left(x(s)\\right)ds \n",
      "\\end{equation}\n",
      "\n",
      "\n",
      "Para lo cual partimos de suponer que conocemos una extensi\u00f3n de intervalo $\\Psi$ talque $x(t) \\in \\Psi(t)$ para toda $t \\in [0,T']$. Esto se puede traducir a que:\n",
      "\n",
      "\\begin{equation}\n",
      "    x(t) \\in x_0 + \\int_0^t F\\left(\\Psi(s)\\right)ds \n",
      "\\end{equation}\n",
      "\n",
      "Donde $F$ es la extensi\u00f3n de intervalo de $f$. Por lo que al final no debemos probar que $x(t) \\in \\Psi(t)$ sino que\n",
      "\n",
      "\\begin{equation}\n",
      "    x_0 + \\int_0^t F\\left(\\Psi(s)\\right)ds \\subseteq \\Psi(t) , \\hspace{1cm} t \\in \\left[0,T'\\right]\n",
      "\\end{equation}"
     ]
    },
    {
     "cell_type": "markdown",
     "metadata": {},
     "source": [
      "Cito textualmente:\n",
      "\n",
      "    \"If this condition holds, it follows by Brouwer\u2019s fixed point theorem (Theorem A.12) that the enclosure \u03a8(t) contains at least one fixed point of the integral operator (6.6). This means that it indeed encloses at least one solution to the IVP (6.4).\""
     ]
    },
    {
     "cell_type": "markdown",
     "metadata": {},
     "source": [
      "Por otro lado esta condici\u00f3n tambien implica que $\\Psi^{(k+1)} \\subseteq \\Psi^{(k)}$ donde los ordenes de las $\\Psi$'s est\u00e1n dados por:\n",
      "\n",
      "\\begin{align}\n",
      "    \\Psi^{(0)}(t)&=\\Psi(t) \\\\\n",
      "    \\Psi^{(k+1)}(t)&= x_0 + \\int_0^t F\\left(\\Psi^{(k)}(s)\\right)ds\n",
      "\\end{align}"
     ]
    },
    {
     "cell_type": "markdown",
     "metadata": {},
     "source": [
      "En un punto de partida muy sencillo podemos suponer que vamos a tomar intervalos constantes $\\Psi^{(k)}(t)=\\mathbf{z}^{(k)}$. De modo que las $\\mathbf{z}$'s anidadas sean:\n",
      "\n",
      "\\begin{equation}\n",
      "    \\mathbf{z}^{(k+1)}(t)= x_0 + \\int_0^t F(\\mathbf{z}^{(k)})ds = x_0 + \\left[0,T'\\right] \\times F(\\mathbf{z}^{(k)})\n",
      "\\end{equation}"
     ]
    },
    {
     "cell_type": "markdown",
     "metadata": {},
     "source": [
      "Estos rect\u00e1ngulos son cotas demasiado grandes, podemos reducirlo a tri\u00e1ngulos de modo que \n",
      "\n",
      "\\begin{equation}\n",
      "    x(t) \\in x_0 + t F(\\mathbf{z}^{(k)})\n",
      "\\end{equation}"
     ]
    },
    {
     "cell_type": "code",
     "collapsed": false,
     "input": [
      "using Images\n",
      "cadena=\"/home/santiago/Documentos/Libros/Fisica/M\u00e9todos Num\u00e9ricos/Warwick_Tucker_Validated_Numerics_A_Short_IntroBookZZ.org.epub_FILES/OPS/images/f0109-01.jpg\"\n",
      "imread(cadena)"
     ],
     "language": "python",
     "metadata": {},
     "outputs": [
      {
       "metadata": {},
       "output_type": "pyout",
       "png": "[encoded data removed]",
       "prompt_number": 1,
       "text": [
        "RGB Image with:\n",
        "  data: 378x267 Array{RGB{UfixedBase{Uint8,8}},2}\n",
        "  properties:\n",
        "    IMcs: sRGB\n",
        "    spatialorder:  x y\n",
        "    pixelspacing:  1 1"
       ]
      }
     ],
     "prompt_number": 1
    },
    {
     "cell_type": "code",
     "collapsed": true,
     "input": [],
     "language": "python",
     "metadata": {},
     "outputs": [],
     "prompt_number": null
    },
    {
     "cell_type": "code",
     "collapsed": false,
     "input": [],
     "language": "python",
     "metadata": {},
     "outputs": []
    },
    {
     "cell_type": "code",
     "collapsed": false,
     "input": [],
     "language": "python",
     "metadata": {},
     "outputs": []
    },
    {
     "cell_type": "code",
     "collapsed": false,
     "input": [],
     "language": "python",
     "metadata": {},
     "outputs": []
    },
    {
     "cell_type": "code",
     "collapsed": false,
     "input": [],
     "language": "python",
     "metadata": {},
     "outputs": []
    },
    {
     "cell_type": "code",
     "collapsed": false,
     "input": [
      "using PyPlot\n",
      "using Intervalos"
     ],
     "language": "python",
     "metadata": {},
     "outputs": [
      {
       "output_type": "stream",
       "stream": "stderr",
       "text": [
        "INFO: Loading help data...\n"
       ]
      }
     ],
     "prompt_number": 2
    },
    {
     "cell_type": "markdown",
     "metadata": {},
     "source": [
      "###Figura 6.1 del Tucker, el cono cero"
     ]
    },
    {
     "cell_type": "code",
     "collapsed": false,
     "input": [
      "# d/dt x(t) = -2x(t) ; x(0)=3   \u2192    x(t)= 3 exp(-2t)\n",
      "\n",
      "f(x)= -2*x\n",
      "x(t)=3*exp(-2*t)\n",
      "x0=Intervalo(3-0.1,3+0.1);\n",
      "\n",
      "\n",
      "t=0:2.0^-2:1.5\n",
      "\n",
      "PyPlot.plot(t,x(t))\n",
      "\n",
      "z0=Intervalo[]\n",
      "z0Top=similar(t)\n",
      "z0Bot=similar(t)\n",
      "\n",
      "\n",
      "numerodekas=20;\n",
      "zk=[[Intervalo(0) for j in 1:length(t)] for i in 1:numerodekas]\n",
      "\n",
      "\n",
      "for i=1:length(t)\n",
      "    push!(z0,3 + t[i]*f(Intervalo(0,3)))\n",
      "    z0Top[i]=z0[i].b\n",
      "    z0Bot[i]=z0[i].a\n",
      "    PyPlot.plot(t[i]*[1,1],Float64[z0[i].a,z0[i].b],\"--g\")\n",
      "    \n",
      "end\n",
      "\n",
      "PyPlot.plot(t,z0Top,\"-r\")\n",
      "PyPlot.plot(t,z0Bot,\"-r\");\n",
      "PyPlot.ylim([min(z0Bot[end],z0Bot[1],x(0),x(t[end]))-1,max(z0Top[end],z0Top[1],x(0),x(t[end]))+1]);\n",
      "\n"
     ],
     "language": "python",
     "metadata": {},
     "outputs": []
    },
    {
     "cell_type": "markdown",
     "metadata": {
      "collapsed": true
     },
     "source": [
      "Ahora tratar\u00e9 de implementar los puntos de arriba y de abajo de la condici\u00f3n inicial por separado (figura 6.2 y 6.3)"
     ]
    },
    {
     "cell_type": "markdown",
     "metadata": {},
     "source": [
      "Primero defino algunas operaciones entre n\u00fameros, arreglos de n\u00fameros, Intervalos y arreglos de Intervalos "
     ]
    },
    {
     "cell_type": "markdown",
     "metadata": {},
     "source": [
      "Ernesto: Agregu\u00e9 producto de n\u00fameros por vectores de intervalos y otras cosas"
     ]
    },
    {
     "cell_type": "code",
     "collapsed": false,
     "input": [
      "#operaciones entre intervalos y arreglos de intervalos\n",
      "\n",
      "#-----VECTORES DE INTERVALOS Y N\u00daMEROS\n",
      "\n",
      "function *(x::Vector{Intervalo},y::Number)\n",
      "    z=Intervalo[]\n",
      "    for i=1:length(x)\n",
      "        push!(z,x[i]*y)\n",
      "    end\n",
      "    return z\n",
      "end\n",
      "\n",
      "*(y::Number,x::Vector{Intervalo})=*(x,y)\n",
      "\n",
      "function *(x::Vector{Int64},y::Intervalo)\n",
      "    z=Intervalo[]\n",
      "    for i=1:length(x)\n",
      "        push!(z,x[i]*y)\n",
      "    end\n",
      "    return z\n",
      "end\n",
      "\n",
      "*(y::Intervalo,x::Vector{Int64})=*(x,y)\n",
      "\n",
      "function *(x::Vector{Float64},y::Intervalo)\n",
      "    z=Intervalo[]\n",
      "    for i=1:length(x)\n",
      "        push!(z,x[i]*y)\n",
      "    end\n",
      "    return z\n",
      "end\n",
      "\n",
      "*(y::Intervalo,x::Vector{Float64})=*(x,y)\n",
      "\n",
      "function +(y::Array{Intervalo,1},x::Number)\n",
      "    z=similar(y)\n",
      "    for i=1:length(y)\n",
      "        z[i]=y[i]+x\n",
      "    end\n",
      "    return z\n",
      "end\n",
      "\n",
      "+(x::Number,y::Array{Intervalo,1})=+(y,x)\n",
      "\n",
      "\n",
      "#-----VECTORES DE INTERVALOS E INTERVALOS\n",
      "function *(x::Vector{Intervalo},y::Intervalo)\n",
      "    z=Intervalo[]\n",
      "    for i=1:length(x)\n",
      "        push!(z,x[i]*y)\n",
      "    end\n",
      "    return z\n",
      "end\n",
      "\n",
      "*(y::Intervalo,x::Vector{Intervalo})=*(x,y)\n",
      "\n",
      "function +(y::Array{Intervalo,1},x::Intervalo)\n",
      "    z=similar(y)\n",
      "    for i=1:length(y)\n",
      "        z[i]=y[i]+x\n",
      "    end\n",
      "    return z\n",
      "end\n",
      "\n",
      "+(x::Intervalo,y::Array{Intervalo,1})=+(y,x)\n"
     ],
     "language": "python",
     "metadata": {},
     "outputs": [
      {
       "metadata": {},
       "output_type": "pyout",
       "prompt_number": 10,
       "text": [
        "+ (generic function with 151 methods)"
       ]
      }
     ],
     "prompt_number": 10
    },
    {
     "cell_type": "heading",
     "level": 4,
     "metadata": {},
     "source": [
      "ERNESTO_001: DEFINICI\u00d3N DEL z0 y LOS DIFERENTES zk's: (revisar que se cumpla la condici\u00f3n 6.9 del tucker)"
     ]
    },
    {
     "cell_type": "code",
     "collapsed": false,
     "input": [
      "-Intervalo(-5,5)"
     ],
     "language": "python",
     "metadata": {},
     "outputs": [
      {
       "metadata": {},
       "output_type": "pyout",
       "prompt_number": 5,
       "text": [
        "[-5e+00,\n",
        "5e+00]"
       ]
      }
     ],
     "prompt_number": 5
    },
    {
     "cell_type": "code",
     "collapsed": false,
     "input": [
      "f(x)=-2*x\n",
      "x0=Intervalo(3-0.01,3+0.01);\n",
      "tI=0;\n",
      "tF=1.5; #DEBER\u00cdA DE SER T'\n",
      "\n",
      "t=linspace(tI,tF,10)\n",
      "\n",
      "x(t)=x0*exp(-2*t)\n"
     ],
     "language": "python",
     "metadata": {},
     "outputs": [
      {
       "metadata": {},
       "output_type": "pyout",
       "prompt_number": 112,
       "text": [
        "x (generic function with 2 methods)"
       ]
      }
     ],
     "prompt_number": 112
    },
    {
     "cell_type": "code",
     "collapsed": false,
     "input": [
      "3*exp(-2*linspace(tI,tF,10))"
     ],
     "language": "python",
     "metadata": {},
     "outputs": [
      {
       "metadata": {},
       "output_type": "pyout",
       "prompt_number": 111,
       "text": [
        "10-element Array{Float64,1}:\n",
        " 3.0     \n",
        " 2.14959 \n",
        " 1.54025 \n",
        " 1.10364 \n",
        " 0.790791\n",
        " 0.566627\n",
        " 0.406006\n",
        " 0.290916\n",
        " 0.20845 \n",
        " 0.149361"
       ]
      }
     ],
     "prompt_number": 111
    },
    {
     "cell_type": "code",
     "collapsed": false,
     "input": [
      "A=[x(t)[i].a for i in 1:length(x(t))];\n",
      "B=[x(t)[i].b for i in 1:length(x(t))];\n",
      "zk0=Intervalo(minimum(A),maximum(B)); #defines el z0 a fuerza bruta, tomando algo que contenga toda la trayectoria ensanchada"
     ],
     "language": "python",
     "metadata": {},
     "outputs": [
      {
       "metadata": {},
       "output_type": "pyout",
       "prompt_number": 107,
       "text": [
        "[1.44382498266805434519216045442396237909453945258561583531489228818429915168764e-01,\n",
        "3.100000000000000088817841970012523233890533447265625e+00]"
       ]
      }
     ],
     "prompt_number": 107
    },
    {
     "cell_type": "code",
     "collapsed": false,
     "input": [
      "numerodek_s=5;\n",
      "zk=[Intervalo(0) for i in 1:numerodek_s]; #Inicializando el arreglo de zk's\n",
      "\n",
      "for i in 1:numerodek_s-1\n",
      "    z[1]=(x0+Intervalo(0,t[end])*f(zk[i]))\n",
      "end"
     ],
     "language": "python",
     "metadata": {},
     "outputs": [
      {
       "metadata": {},
       "output_type": "pyout",
       "prompt_number": 104,
       "text": [
        "5-element Array{Intervalo,1}:\n",
        " [0e+00,\n",
        "0e+00]\n",
        " [0e+00,\n",
        "0e+00]\n",
        " [0e+00,\n",
        "0e+00]\n",
        " [0e+00,\n",
        "0e+00]\n",
        " [0e+00,\n",
        "0e+00]"
       ]
      }
     ],
     "prompt_number": 104
    },
    {
     "cell_type": "code",
     "collapsed": false,
     "input": [],
     "language": "python",
     "metadata": {},
     "outputs": [
      {
       "ename": "LoadError",
       "evalue": "BoundsError()\nwhile loading In[92], in expression starting on line 1",
       "output_type": "pyerr",
       "traceback": [
        "BoundsError()\nwhile loading In[92], in expression starting on line 1",
        "",
        " in getindex at array.jl:246",
        " in anonymous at no file:2"
       ]
      }
     ],
     "prompt_number": 92
    },
    {
     "cell_type": "markdown",
     "metadata": {},
     "source": [
      "Ahora defino funciones que me ayudan a visualizar (y entender) el m\u00e9todo"
     ]
    },
    {
     "cell_type": "code",
     "collapsed": false,
     "input": [
      "function conosInterv(tI,tF,x0::Intervalo,f::Function,x::Function)\n",
      "    #t=tI:2.0^-5:tF\n",
      "    t=linspace(tI,tF,10)\n",
      "    PyPlot.plot(t,x(t),color=\"blue\")\n",
      "    \n",
      "    triple=[tI , t[integer(length(t)/2)] , tF]-tI\n",
      "    #triplex0=[x0,x0,x0]\n",
      "    #for i=1:length(temp)\n",
      "    #    triplex0=triple[i]*x0\n",
      "    #end\n",
      "    cono0=x0.a + triple*f(x0)\n",
      "    cono0Top=Float64[cono0[1].b,cono0[2].b,cono0[3].b]\n",
      "    cono0Bot=Float64[cono0[1].a,cono0[2].a,cono0[3].a]\n",
      "    PyPlot.plot(triple+tI,cono0Top,\"--\",color=\"red\")\n",
      "    PyPlot.plot(triple+tI,cono0Bot,\"-\",color=\"red\")\n",
      "    \n",
      "    cono1=x0.b + triple*f(x0)\n",
      "    cono1Top=Float64[cono1[1].b,cono1[2].b,cono1[3].b]\n",
      "    cono1Bot=Float64[cono1[1].a,cono1[2].a,cono1[3].a]\n",
      "    PyPlot.plot(triple+tI,cono1Top,\"-\",color=\"g\")\n",
      "    PyPlot.plot(triple+tI,cono1Bot,\"--\",color=\"g\")\n",
      "    \n",
      "    PyPlot.ylim([min(cono0Bot[end],cono1Bot[end],cono0Bot[1],cono1Bot[1],x(tI),x(tF))-1,\n",
      "        max(cono0Bot[end],cono1Bot[end],cono0Bot[1],cono1Bot[1],x(tI),x(tF))+1]);\n",
      "    \n",
      "    cono=uneconos(cono0,cono1)\n",
      "    graficaListaInterv(triple+tI,cono)\n",
      "    return cono\n",
      "end\n",
      "\n",
      "function uneconos(conoA::Array{Intervalo,1},conoB::Array{Intervalo,1})\n",
      "    # esta funci\u00f3n toma dos arreglos de intervalos y los une aunque no se intersecten\n",
      "    if length(conoA)!=length(conoB)\n",
      "        error(\"Deben tener mismo tama\u00f1o\")\n",
      "    end\n",
      "    if conoA[1].a\u2265conoB[1].a && conoA[end].a\u2265conoB[end].a\n",
      "        bajo=conoB\n",
      "        alto=conoA\n",
      "    else\n",
      "        bajo=conoA\n",
      "        alto=conoB\n",
      "    end\n",
      "    cono=Intervalo[]\n",
      "    for i=1:length(conoA)\n",
      "        push!(cono,Intervalo((bajo[i]).a,(alto[i]).b))\n",
      "    end\n",
      "    return cono\n",
      "end\n",
      "\n",
      "function graficaListaInterv(lista::Array{Intervalo,1})\n",
      "    # esta funci\u00f3n grafica una lista de Intervalos\n",
      "    for i=1:length(lista)\n",
      "        PyPlot.plot([i,i],Float64[lista[i].a,lista[i].b],\"-\",color=\"orange\")\n",
      "        #PyPlot.plot([i,i],Float64[lista[i].a,lista[i].b],\"-\")\n",
      "    end\n",
      "    PyPlot.xlim(0,length(lista)+1)\n",
      "end\n",
      "\n",
      "function graficaListaInterv(ejeX,lista::Array{Intervalo,1})\n",
      "    # esta funci\u00f3n grafica una lista de Intervalos, con dependencia en x con ejeX\n",
      "    if length(ejeX)!=length(lista)\n",
      "        error(\"Deben tener mismo tama\u00f1o\")\n",
      "    end\n",
      "    for i=1:length(lista)\n",
      "        PyPlot.plot(ejeX[i]*[1,1],Float64[lista[i].a,lista[i].b],\"-\",color=\"orange\")\n",
      "        #PyPlot.plot([i,i],Float64[lista[i].a,lista[i].b],\"-\")\n",
      "    end\n",
      "    PyPlot.xlim(0.9*ejeX[1],1.1*ejeX[end])\n",
      "end"
     ],
     "language": "python",
     "metadata": {},
     "outputs": [
      {
       "metadata": {},
       "output_type": "pyout",
       "prompt_number": 74,
       "text": [
        "graficaListaInterv (generic function with 2 methods)"
       ]
      }
     ],
     "prompt_number": 74
    },
    {
     "cell_type": "code",
     "collapsed": false,
     "input": [
      "\n",
      "\n",
      "# d/dt x(t) = -2x(t) ; x(0)=3   \u2192    x(t)= 3 exp(-2t)\n",
      "f(x)= -2*x\n",
      "x(xo,t)=xo*exp(-2*t)\n",
      "y(t)=x(3,t)\n",
      "\n",
      "conosInterv(0,1.2,Intervalo(0,4),f,y)\n",
      "PyPlot.plot()\n",
      "PyPlot.xlim(0,1.3)\n",
      "PyPlot.ylim(-10,10);\n",
      "\n",
      "##Prueba\n",
      "#t=linspace(0,1.2,10)\n",
      "#PyPlot.plot(t,x(4,t),color=\"blue\")\n",
      "#PyPlot.plot(t,x(0,t),color=\"blue\")\n",
      "##Prueba\n",
      "\n"
     ],
     "language": "python",
     "metadata": {},
     "outputs": []
    },
    {
     "cell_type": "markdown",
     "metadata": {},
     "source": [
      "\n",
      "\n",
      "Entonces gener\u00e9 dos conos: conoV (verde) y conoR (rojo), y digo que  conoVconoR. Donde la uni\u00f3n inluye el espacio entre los intervalos, marcado en la gr\u00e1fica como los intervalos de las l\u00edneas continuas (verde y roja). Las lineas negras (ERNESTO: NARANJAS) son los tres intervalos que regresa la funci\u00f3n conosInterv\n",
      "\n",
      "Ahora debo aplicar lo de definir un nuevo intervalo para inicar generado por este cono (que ser\u00e1 la \u00faltima l\u00ednea negra (ERNESTO: NARANJA))"
     ]
    },
    {
     "cell_type": "code",
     "collapsed": false,
     "input": [
      "\n",
      "\n",
      "# d/dt x(t) = -2x(t) ; x(0)=3   \u2192    x(t)= 3 exp(-2t)\n",
      "\n",
      "f(x)= -2*x\n",
      "x(xo,t)=xo*exp(-2*t)\n",
      "y(t)=x(3,t)\n",
      "\n",
      "x1=conosInterv(0,0.4,Intervalo(0,4),f,y)[3];\n",
      "#agregu\u00e9 el siguiente rengl\u00f3n\n",
      "x2=conosInterv(0.4,0.8,x1,f,y)[3];\n",
      "#agregu\u00e9 el siguiente rengl\u00f3n\n",
      "conosInterv(0.8,1.2,x2,f,y);\n",
      "PyPlot.xlim(0,1.3)\n",
      "PyPlot.ylim(-10,10);\n",
      "\n"
     ],
     "language": "python",
     "metadata": {},
     "outputs": [
      {
       "metadata": {},
       "output_type": "display_data",
       "png": "[encoded data removed]",
       "text": [
        "Figure(PyObject <matplotlib.figure.Figure object at 0x7f89d26b7990>)"
       ]
      }
     ],
     "prompt_number": 82
    },
    {
     "cell_type": "markdown",
     "metadata": {},
     "source": [
      "\n",
      "\n",
      "Hay algo raro ya que deb\u00eda disminuir el intervalo, no aumentar, con cada nueva partici\u00f3n. Si no ser\u00eda mejor tomar una sola partici\u00f3n:\n"
     ]
    },
    {
     "cell_type": "code",
     "collapsed": false,
     "input": [
      "\n",
      "\n",
      "# d/dt x(t) = -2x(t) ; x(0)=3   \u2192    x(t)= 3 exp(-2t)\n",
      "\n",
      "a0=4\n",
      "f(x)= -2*x\n",
      "x(xo,t)=xo*exp(-2*t)\n",
      "y(t)=x(3,t)\n",
      "\n",
      "conosInterv(0,1.2,Intervalo(0,4),f,y)[3];\n",
      "\n",
      "PyPlot.xlim(0,1.3)\n",
      "PyPlot.ylim(-10,10);\n",
      "\n",
      "##Prueba\n",
      "#t=linspace(0,1.2,10)\n",
      "#PyPlot.plot(t,x(4,t),color=\"blue\")\n",
      "#PyPlot.plot(t,x(0,t),color=\"blue\")\n",
      "##Prueba\n",
      "\n"
     ],
     "language": "python",
     "metadata": {},
     "outputs": [
      {
       "metadata": {},
       "output_type": "display_data",
       "png": "[encoded data removed]",
       "text": [
        "Figure(PyObject <matplotlib.figure.Figure object at 0x7f89d2c69a10>)"
       ]
      },
      {
       "metadata": {},
       "output_type": "pyout",
       "prompt_number": 74,
       "text": [
        "(-10,10)"
       ]
      }
     ],
     "prompt_number": 74
    },
    {
     "cell_type": "markdown",
     "metadata": {},
     "source": [
      "Santiago: Creo que las l\u00edneas punteadas no deber\u00edan tocarse\n",
      "Ernesto: No pasa nada si se tocan"
     ]
    },
    {
     "cell_type": "code",
     "collapsed": false,
     "input": [],
     "language": "python",
     "metadata": {},
     "outputs": [],
     "prompt_number": null
    },
    {
     "cell_type": "code",
     "collapsed": false,
     "input": [],
     "language": "python",
     "metadata": {
      "scrolled": false
     },
     "outputs": [],
     "prompt_number": null
    },
    {
     "cell_type": "markdown",
     "metadata": {},
     "source": [
      "Ernesto 001: cosas de runge kuta de n\u00fameros:"
     ]
    },
    {
     "cell_type": "code",
     "collapsed": false,
     "input": [
      "\n",
      "\n",
      "function rk4(f)\n",
      "        return   (t,y,dt)-> \n",
      "               ( (dy1   )-> \n",
      "               ( (dy2   )-> \n",
      "               ( (dy3   )-> \n",
      "               ( (dy4   )->( dy1 + 2*dy2 + 2*dy3 + dy4 ) / 6 \n",
      "               )( dt * f( t +dt  , y + dy3   ) )\n",
      "               )( dt * f( t +dt/2, y + dy2/2 ) )\n",
      "               )( dt * f( t +dt/2, y + dy1/2 ) )\n",
      "               )( dt * f( t      , y         ) )\n",
      "end\n",
      " \n",
      "theory(t) = (t^2 + 4.0)^2 / 16.0\n",
      " \n",
      "tmax = 10.0\n",
      "ttol = 1.e-5\n",
      " \n",
      "t0   = 0.0\n",
      "y0   = 1.0\n",
      "dt   = 0.1\n",
      " \n",
      "dy = rk4( (t,y) -> t*sqrt(y) )\n",
      " \n",
      "t = t0 \n",
      "y = y0\n",
      " \n",
      "while t <= tmax\n",
      "        if abs(round(t) - t) < ttol \n",
      "          @printf( STDOUT,\"y(%4.1f)\\t= %12.6f \\t error: %12.6e\\n\",t,y,abs(y-theory(t)) )\n",
      "        end\n",
      "        y = y + dy(t,y,dt)\n",
      "        t = t + dt\n",
      "end\n",
      " "
     ],
     "language": "python",
     "metadata": {},
     "outputs": [
      {
       "output_type": "stream",
       "stream": "stdout",
       "text": [
        "y( "
       ]
      },
      {
       "output_type": "stream",
       "stream": "stdout",
       "text": [
        "0.0)\t=     1.000000 \t error: 0.000000e+00\n",
        "y( 1.0)\t=     1.562500 \t error: 1.457219e-07\n",
        "y( 2.0)\t=     3.999999 \t error: 9.194792e-07\n",
        "y( 3.0)\t=    10.562497 \t error: 2.909562e-06\n",
        "y( 4.0)\t=    24.999994 \t error: 6.234909e-06\n",
        "y( 5.0)\t=    52.562489 \t error: 1.081970e-05\n",
        "y( 6.0)\t=    99.999983 \t error: 1.659460e-05\n",
        "y( 7.0)\t=   175.562476 \t error: 2.351773e-05\n",
        "y( 8.0)\t=   288.999968 \t error: 3.156520e-05\n",
        "y( 9.0)\t=   451.562459 \t error: 4.072316e-05\n",
        "y(10.0)\t=   675.999949 \t error: 5.098329e-05\n"
       ]
      }
     ],
     "prompt_number": 4
    },
    {
     "cell_type": "code",
     "collapsed": false,
     "input": [],
     "language": "python",
     "metadata": {},
     "outputs": [],
     "prompt_number": null
    }
   ],
   "metadata": {}
  }
 ]
}